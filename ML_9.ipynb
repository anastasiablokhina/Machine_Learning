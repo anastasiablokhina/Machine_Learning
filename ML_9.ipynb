{
  "nbformat": 4,
  "nbformat_minor": 0,
  "metadata": {
    "colab": {
      "name": "ML_9.ipynb",
      "provenance": [],
      "authorship_tag": "ABX9TyPjVvo61lSUXtirCa+wy94I"
    },
    "kernelspec": {
      "name": "python3",
      "display_name": "Python 3"
    },
    "language_info": {
      "name": "python"
    }
  },
  "cells": [
    {
      "cell_type": "markdown",
      "source": [
        "Вам доступна таблица некоторых синтетических данных, на основании которых необходимо выполнить кластеризацию на *K = 3* кластера методом К-средних."
      ],
      "metadata": {
        "id": "QIlms-FM3LNK"
      }
    },
    {
      "cell_type": "code",
      "execution_count": null,
      "metadata": {
        "id": "vbrkHxTJ1AOo"
      },
      "outputs": [],
      "source": [
        "import pandas as pd\n",
        "import numpy as np\n",
        "from sklearn.cluster import KMeans"
      ]
    },
    {
      "cell_type": "markdown",
      "source": [
        "В sklearn используйте начальную инициализацию со следующими координатами центроидов и параметрами:\n",
        "KMeans(n_clusters=3, init=np.array([[10.33, 8.5], [10.0, 7.0], [12.57, 12.14]]), max_iter=100, n_init=1)"
      ],
      "metadata": {
        "id": "3-JQTRun3UEK"
      }
    },
    {
      "cell_type": "markdown",
      "source": [
        "Укажите, к какому кластеру будет отнесен тот или иной объект в результате кластеризации"
      ],
      "metadata": {
        "id": "4yzJ55Mu3ZfT"
      }
    },
    {
      "cell_type": "code",
      "source": [
        "df = pd.read_csv('/content/ml_9.csv')\n",
        "X = df[['X', 'Y']]\n",
        "Y = df[['Cluster']]\n",
        "kmeans = KMeans(n_clusters=3, init=np.array([[10.33, 8.5], [10.0, 7.0], [12.57, 12.14]]), max_iter=100, n_init=1).fit(X)\n",
        "lab = kmeans.labels_\n",
        "lab"
      ],
      "metadata": {
        "colab": {
          "base_uri": "https://localhost:8080/"
        },
        "id": "r3viCUkR1iSb",
        "outputId": "dafbba2b-c3bf-49e3-a6e4-04945eb54bed"
      },
      "execution_count": null,
      "outputs": [
        {
          "output_type": "execute_result",
          "data": {
            "text/plain": [
              "array([2, 0, 2, 1, 1, 2, 1, 1, 2, 2, 2, 2, 2, 2, 1], dtype=int32)"
            ]
          },
          "metadata": {},
          "execution_count": 14
        }
      ]
    },
    {
      "cell_type": "markdown",
      "source": [
        "По результатам выполнения кластеризации определить среднее расстояний между объектами и центроидом, отнесенных к кластеру 0."
      ],
      "metadata": {
        "id": "SPn1FZkt3wrw"
      }
    },
    {
      "cell_type": "code",
      "source": [
        "alldistances = kmeans.fit_transform(X)\n",
        "alldistances"
      ],
      "metadata": {
        "colab": {
          "base_uri": "https://localhost:8080/"
        },
        "id": "RZzMR5EU4Ok7",
        "outputId": "56860493-aba1-4936-d080-d4a6b9c537bd"
      },
      "execution_count": null,
      "outputs": [
        {
          "output_type": "execute_result",
          "data": {
            "text/plain": [
              "array([[ 7.07106781,  8.41189634,  2.88888889],\n",
              "       [ 0.        , 10.01798383,  8.28057373],\n",
              "       [ 9.48683298, 12.85145906,  1.60246723],\n",
              "       [ 9.21954446,  6.4       , 14.69735846],\n",
              "       [11.70469991,  2.03960781, 13.31711977],\n",
              "       [ 6.08276253,  8.15843122,  3.40116175],\n",
              "       [14.14213562,  5.68858506, 11.81858758],\n",
              "       [ 8.06225775,  3.54400903, 12.00051439],\n",
              "       [12.04159458, 11.03449138,  4.71535448],\n",
              "       [ 8.06225775,  8.77268488,  2.66898048],\n",
              "       [13.03840481, 11.74563749,  5.56887293],\n",
              "       [ 5.        , 12.00666482,  4.3219223 ],\n",
              "       [12.80624847, 17.8986033 ,  6.60900994],\n",
              "       [ 7.21110255, 15.00533239,  5.97319114],\n",
              "       [11.40175425,  5.01597448,  8.71213146]])"
            ]
          },
          "metadata": {},
          "execution_count": 18
        }
      ]
    }
  ]
}