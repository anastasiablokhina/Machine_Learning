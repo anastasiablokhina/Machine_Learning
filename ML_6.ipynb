{
  "nbformat": 4,
  "nbformat_minor": 0,
  "metadata": {
    "colab": {
      "name": "ML_6.ipynb",
      "provenance": [],
      "collapsed_sections": [],
      "authorship_tag": "ABX9TyP9fw4OiE8PhsisbqPJRoGf"
    },
    "kernelspec": {
      "name": "python3",
      "display_name": "Python 3"
    },
    "language_info": {
      "name": "python"
    }
  },
  "cells": [
    {
      "cell_type": "markdown",
      "source": [
        "Обучите модель логистической регрессии. В качестве тренировочного набора данных используйте данные из файла, за иключением следующих конфет: Mike & Ike, Root Beer Barrels, Starburst. Обучите модель и выполните предсказание для всех конфет из прилагаемого файла тестовых данных."
      ],
      "metadata": {
        "id": "Gmn4BaYVxi7F"
      }
    },
    {
      "cell_type": "code",
      "execution_count": 1,
      "metadata": {
        "id": "-ZfRpTkH6KcB"
      },
      "outputs": [],
      "source": [
        "import pandas as pd\n",
        "from sklearn.linear_model import LogisticRegression\n",
        "import warnings\n",
        "warnings.filterwarnings(\"ignore\")"
      ]
    },
    {
      "cell_type": "code",
      "source": [
        "df = pd.read_csv('candy-data.csv', index_col='competitorname')\n",
        "X = pd.DataFrame(df.drop(['Y', 'winpercent'], axis=1))\n",
        "y = pd.DataFrame(df['Y'])"
      ],
      "metadata": {
        "id": "gVkVRlJn--jr"
      },
      "execution_count": 2,
      "outputs": []
    },
    {
      "cell_type": "code",
      "source": [
        "train_df = df.drop(['Mike & Ike', 'Root Beer Barrels', 'Starburst'])"
      ],
      "metadata": {
        "id": "mezfsGZIIKQu"
      },
      "execution_count": 3,
      "outputs": []
    },
    {
      "cell_type": "code",
      "source": [
        "test_df = pd.read_csv('/content/candy-test.csv', index_col='competitorname')\n",
        "X_test = pd.DataFrame(test_df.drop(['Y'], axis=1))\n",
        "y_test = pd.DataFrame(test_df['Y'])"
      ],
      "metadata": {
        "id": "SJAycAlD6dLM"
      },
      "execution_count": 4,
      "outputs": []
    },
    {
      "cell_type": "code",
      "source": [
        "reg = LogisticRegression(random_state=2019, solver='lbfgs').fit(X, y)"
      ],
      "metadata": {
        "id": "f00XP9iU9lq4"
      },
      "execution_count": 5,
      "outputs": []
    },
    {
      "cell_type": "markdown",
      "source": [
        "Введите вероятность отнесения конфеты Warheads к классу 1, введите вероятность отнесения конфеты Tootsie Roll Snack Bars к классу 1"
      ],
      "metadata": {
        "id": "wcUK-QodyLAE"
      }
    },
    {
      "cell_type": "code",
      "source": [
        "Y_pred = reg.predict(X_test)\n",
        "Y_pred_prob_1 = reg.predict_proba(X_test.loc[['Warheads']])\n",
        "Y_pred_prob_2 = reg.predict_proba(X_test.loc[['Tootsie Roll Snack Bars']])\n",
        "Y_pred_prob_1, Y_pred_prob_2"
      ],
      "metadata": {
        "colab": {
          "base_uri": "https://localhost:8080/"
        },
        "id": "1wviTIDuIkvK",
        "outputId": "e0fca8b1-2a9d-4a03-b720-afcdc157c000"
      },
      "execution_count": 6,
      "outputs": [
        {
          "output_type": "execute_result",
          "data": {
            "text/plain": [
              "(array([[0.85697526, 0.14302474]]), array([[0.22109823, 0.77890177]]))"
            ]
          },
          "metadata": {},
          "execution_count": 6
        }
      ]
    },
    {
      "cell_type": "markdown",
      "source": [
        "Выполните оценку модели с помощью матрицы ошибок и рассчитайте следующие параметры"
      ],
      "metadata": {
        "id": "6qNGAyyDydi3"
      }
    },
    {
      "cell_type": "code",
      "source": [
        "Y_pred_probs = reg.predict_proba(X_test)\n",
        "Y_pred_probs_class_1 = Y_pred_probs[:, 1]"
      ],
      "metadata": {
        "id": "ihCZccQVLEC-"
      },
      "execution_count": null,
      "outputs": []
    },
    {
      "cell_type": "code",
      "source": [
        "from sklearn import metrics\n",
        "fpr, tpr, _ = metrics.roc_curve(y_test, Y_pred)\n",
        "#вычисляем AUC\n",
        "metrics.roc_auc_score(y_test, Y_pred_probs_class_1)"
      ],
      "metadata": {
        "colab": {
          "base_uri": "https://localhost:8080/"
        },
        "id": "rhSUTcczKLKj",
        "outputId": "45b94cb5-0996-47f7-9841-dad6c6834a23"
      },
      "execution_count": null,
      "outputs": [
        {
          "output_type": "execute_result",
          "data": {
            "text/plain": [
              "0.8799999999999999"
            ]
          },
          "metadata": {},
          "execution_count": 49
        }
      ]
    },
    {
      "cell_type": "code",
      "source": [
        "#вычисление Recall\n",
        "metrics.recall_score(y_test, Y_pred)"
      ],
      "metadata": {
        "id": "jAWkDTRbLVyc",
        "outputId": "a4ef3d95-7c7c-4937-e446-2f9784117ae1",
        "colab": {
          "base_uri": "https://localhost:8080/"
        }
      },
      "execution_count": null,
      "outputs": [
        {
          "output_type": "execute_result",
          "data": {
            "text/plain": [
              "0.6"
            ]
          },
          "metadata": {},
          "execution_count": 50
        }
      ]
    },
    {
      "cell_type": "code",
      "source": [
        "#вычисление Precision\n",
        "metrics.precision_score(y_test, Y_pred)"
      ],
      "metadata": {
        "id": "pzEVYg3iLXRi",
        "outputId": "8f3e58d3-fd60-4fcf-fab8-2e969ef3010a",
        "colab": {
          "base_uri": "https://localhost:8080/"
        }
      },
      "execution_count": null,
      "outputs": [
        {
          "output_type": "execute_result",
          "data": {
            "text/plain": [
              "0.5"
            ]
          },
          "metadata": {},
          "execution_count": 51
        }
      ]
    }
  ]
}