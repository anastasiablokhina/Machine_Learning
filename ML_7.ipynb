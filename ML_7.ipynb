{
  "nbformat": 4,
  "nbformat_minor": 0,
  "metadata": {
    "colab": {
      "name": "ML_7.ipynb",
      "provenance": [],
      "collapsed_sections": [],
      "authorship_tag": "ABX9TyNIXg0igco781tFRJQ7905c"
    },
    "kernelspec": {
      "name": "python3",
      "display_name": "Python 3"
    },
    "language_info": {
      "name": "python"
    }
  },
  "cells": [
    {
      "cell_type": "markdown",
      "source": [
        "В данной задаче вам предстоит решить задачу классификации изображений – отделить изображения кошек от изображений собак, используя классификацию с мягким зазором и параметром $C$. "
      ],
      "metadata": {
        "id": "D8tB4C8uzG1i"
      }
    },
    {
      "cell_type": "code",
      "execution_count": 2,
      "metadata": {
        "colab": {
          "base_uri": "https://localhost:8080/"
        },
        "id": "7EX1ZeYXMRvq",
        "outputId": "77f99364-bf96-4d70-9088-754ba8403732"
      },
      "outputs": [
        {
          "output_type": "stream",
          "name": "stdout",
          "text": [
            "Mounted at /content/drive\n"
          ]
        }
      ],
      "source": [
        "from google.colab import drive\n",
        "drive.mount('/content/drive')"
      ]
    },
    {
      "cell_type": "code",
      "source": [
        "import os\n",
        "import zipfile"
      ],
      "metadata": {
        "id": "VIGqbJhSAc6y"
      },
      "execution_count": null,
      "outputs": []
    },
    {
      "cell_type": "code",
      "source": [
        "from sklearn.preprocessing import LabelEncoder\n",
        "from sklearn.svm import LinearSVC\n",
        "from sklearn.metrics import classification_report\n",
        "from sklearn.model_selection import train_test_split\n",
        "from IPython.display import Image\n",
        "from imutils import paths\n",
        "import numpy as np\n",
        "import cv2\n",
        "import os"
      ],
      "metadata": {
        "id": "Nv1NrEXEZFGC"
      },
      "execution_count": null,
      "outputs": []
    },
    {
      "cell_type": "code",
      "source": [
        "local_zip = '/content/drive/MyDrive/train_task.zip'\n",
        "zip_ref = zipfile.ZipFile(local_zip, 'r')\n",
        "zip_ref.extractall('/content/drive/MyDrive/')\n",
        "zip_ref.close()"
      ],
      "metadata": {
        "id": "QCn63-0EAmc5"
      },
      "execution_count": null,
      "outputs": []
    },
    {
      "cell_type": "code",
      "source": [
        "local_zip = '/content/drive/MyDrive/test_task.zip'\n",
        "zip_ref = zipfile.ZipFile(local_zip, 'r')\n",
        "zip_ref.extractall('/content/drive/MyDrive/')\n",
        "zip_ref.close()"
      ],
      "metadata": {
        "id": "4alLh-zLGDqX"
      },
      "execution_count": null,
      "outputs": []
    },
    {
      "cell_type": "code",
      "source": [
        "def extract_histogram(image, bins=(8, 8, 8)):\n",
        "    hist = cv2.calcHist([image], [0, 1, 2], None, bins, [0, 256, 0, 256, 0, 256])\n",
        "    cv2.normalize(hist, hist)\n",
        "    return hist.flatten()"
      ],
      "metadata": {
        "id": "cflRQx_SSS7P"
      },
      "execution_count": null,
      "outputs": []
    },
    {
      "cell_type": "code",
      "source": [
        "imagePaths = sorted(list(paths.list_images('/content/drive/MyDrive/train')))\n",
        "data = []\n",
        "labels = []\n",
        "\n",
        "for (i, imagePath) in enumerate(imagePaths):\n",
        "    image = cv2.imread(imagePath, 1)\n",
        "    label = imagePath.split(os.path.sep)[-1].split(\".\")[0]\n",
        "    hist = extract_histogram(image)\n",
        "    data.append(hist)\n",
        "    labels.append(label)"
      ],
      "metadata": {
        "id": "HNai9VzxJTQV"
      },
      "execution_count": null,
      "outputs": []
    },
    {
      "cell_type": "code",
      "source": [
        "le = LabelEncoder()\n",
        "labels = le.fit_transform(labels)\n",
        "print(labels[0])\n",
        "Image(filename=imagePaths[0])"
      ],
      "metadata": {
        "colab": {
          "base_uri": "https://localhost:8080/",
          "height": 408
        },
        "id": "KrNALedzZNiP",
        "outputId": "a2606a22-ccb7-4485-f17a-a04328a9d0fe"
      },
      "execution_count": null,
      "outputs": [
        {
          "output_type": "stream",
          "name": "stdout",
          "text": [
            "0\n"
          ]
        },
        {
          "output_type": "execute_result",
          "data": {
            "text/plain": [
              "<IPython.core.display.Image object>"
            ],
            "image/jpeg": "[encoded data removed]"
          },
          "metadata": {},
          "execution_count": 37
        }
      ]
    },
    {
      "cell_type": "markdown",
      "source": [
        "Обучите классификатор LinearSVC() при C = 1.47 и random_state = 4 на предложенной выборке. Используйте параметр random_state = 4 для разделения выборки на тренировочную и тестовую части, в отношении 75/25 функции train_test_split()."
      ],
      "metadata": {
        "id": "QrQ256MHzmjZ"
      }
    },
    {
      "cell_type": "code",
      "source": [
        "(trainData, testData, trainLabels, testLabels) = train_test_split(np.array(data), labels, test_size=0.25, random_state=4)\n",
        "model = LinearSVC(random_state = 4, C = 1.47)\n",
        "model.fit(trainData, trainLabels)"
      ],
      "metadata": {
        "colab": {
          "base_uri": "https://localhost:8080/"
        },
        "id": "nbmYhhTvbJ3z",
        "outputId": "3b0cf541-d84c-4fe1-c331-f342a58187c4"
      },
      "execution_count": null,
      "outputs": [
        {
          "output_type": "execute_result",
          "data": {
            "text/plain": [
              "LinearSVC(C=1.47, random_state=4)"
            ]
          },
          "metadata": {},
          "execution_count": 38
        }
      ]
    },
    {
      "cell_type": "markdown",
      "source": [
        "Составьте матрицу ошибок для каждого класса, рассчитайте точность (precision) и полноту (recall). Затем вычислите значение метрики $F_1$ для каждого класса:"
      ],
      "metadata": {
        "id": "PP-xp5h4z3Xf"
      }
    },
    {
      "cell_type": "code",
      "source": [
        "predictions = model.predict(testData)\n",
        "print(classification_report(testLabels, predictions, target_names=le.classes_))"
      ],
      "metadata": {
        "colab": {
          "base_uri": "https://localhost:8080/"
        },
        "id": "hdoH_OQbbipq",
        "outputId": "934fb56c-59bf-482d-c5cc-2db101a508b3"
      },
      "execution_count": null,
      "outputs": [
        {
          "output_type": "stream",
          "name": "stdout",
          "text": [
            "              precision    recall  f1-score   support\n",
            "\n",
            "         cat       0.56      0.68      0.61       127\n",
            "         dog       0.58      0.46      0.51       123\n",
            "\n",
            "    accuracy                           0.57       250\n",
            "   macro avg       0.57      0.57      0.56       250\n",
            "weighted avg       0.57      0.57      0.56       250\n",
            "\n"
          ]
        }
      ]
    },
    {
      "cell_type": "code",
      "source": [
        "from sklearn.metrics import f1_score\n",
        "predictions = model.predict(testData)\n",
        "f1_score(testLabels, predictions, average='macro')"
      ],
      "metadata": {
        "colab": {
          "base_uri": "https://localhost:8080/"
        },
        "id": "x2UcNgpRbsIa",
        "outputId": "bdaf2554-19c5-4782-905c-826042bf329f"
      },
      "execution_count": null,
      "outputs": [
        {
          "output_type": "execute_result",
          "data": {
            "text/plain": [
              "0.5616883116883117"
            ]
          },
          "metadata": {},
          "execution_count": 40
        }
      ]
    },
    {
      "cell_type": "markdown",
      "source": [
        "Введите значение коэффициента $\\theta_{123}$ построенной гиперплоскости."
      ],
      "metadata": {
        "id": "tLWCEraCzfv7"
      }
    },
    {
      "cell_type": "code",
      "source": [
        "model.coef_[0][123]"
      ],
      "metadata": {
        "colab": {
          "base_uri": "https://localhost:8080/"
        },
        "id": "Kr02eMqpcCFr",
        "outputId": "04c24a26-3816-4080-a147-dfc1a1fd9a4b"
      },
      "execution_count": null,
      "outputs": [
        {
          "output_type": "execute_result",
          "data": {
            "text/plain": [
              "3.1052456830668075e-05"
            ]
          },
          "metadata": {},
          "execution_count": 43
        }
      ]
    },
    {
      "cell_type": "markdown",
      "source": [
        "Выполните предсказание для изображений, указанных ниже. Введите назначенный класс: 0 или 1."
      ],
      "metadata": {
        "id": "-BqYuxuH0Btu"
      }
    },
    {
      "cell_type": "code",
      "source": [
        "singleImage = cv2.imread('drive/MyDrive/test/dog.1013.jpg')\n",
        "histt = extract_histogram(singleImage)\n",
        "histt2 = histt.reshape(1, -1)\n",
        "prediction = model.predict(histt2)\n",
        "prediction"
      ],
      "metadata": {
        "colab": {
          "base_uri": "https://localhost:8080/"
        },
        "id": "ojdrit1VcXbr",
        "outputId": "fbbcd55a-d790-418e-9037-5f1bd4807d20"
      },
      "execution_count": null,
      "outputs": [
        {
          "output_type": "execute_result",
          "data": {
            "text/plain": [
              "array([1])"
            ]
          },
          "metadata": {},
          "execution_count": 49
        }
      ]
    }
  ]
}