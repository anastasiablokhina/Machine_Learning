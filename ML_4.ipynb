{
  "nbformat": 4,
  "nbformat_minor": 0,
  "metadata": {
    "colab": {
      "name": "ML_4.ipynb",
      "provenance": [],
      "authorship_tag": "ABX9TyNUrP8Fn5xgoUhVBAp5Yxfu"
    },
    "kernelspec": {
      "name": "python3",
      "display_name": "Python 3"
    },
    "language_info": {
      "name": "python"
    }
  },
  "cells": [
    {
      "cell_type": "code",
      "execution_count": 1,
      "metadata": {
        "id": "6VFuNzR84wfd"
      },
      "outputs": [],
      "source": [
        "import pandas as pd\n",
        "from sklearn.neighbors import KNeighborsClassifier as knn\n",
        "import warnings\n",
        "warnings.filterwarnings('ignore')"
      ]
    },
    {
      "cell_type": "code",
      "source": [
        "df = pd.read_csv('/content/ml_4.csv', index_col='id')\n",
        "X = pd.DataFrame(df.drop(['Class'], axis=1))\n",
        "Y = pd.DataFrame(df['Class'])"
      ],
      "metadata": {
        "id": "FP3EVOvH5GEn"
      },
      "execution_count": 2,
      "outputs": []
    },
    {
      "cell_type": "markdown",
      "source": [
        "Введите расстояние от нового объекта с координатами (58, 63) до ближайшего соседа, используя евклидову метрику. Введите идентификатры трех ближайших точек к (58, 63) для евклидовой метрики."
      ],
      "metadata": {
        "id": "Zs0BrSWSv_At"
      }
    },
    {
      "cell_type": "code",
      "source": [
        "from sklearn.neighbors import NearestNeighbors\n",
        "neigh = NearestNeighbors(n_neighbors=3)\n",
        "neigh.fit(X)\n",
        "print(neigh.kneighbors([[58, 63]]))"
      ],
      "metadata": {
        "colab": {
          "base_uri": "https://localhost:8080/"
        },
        "id": "K37z5jv0EFj9",
        "outputId": "97a2cc22-1a85-468b-e2d8-2431926902bb"
      },
      "execution_count": 3,
      "outputs": [
        {
          "output_type": "stream",
          "name": "stdout",
          "text": [
            "(array([[ 9.8488578 , 13.        , 18.11077028]]), array([[2, 3, 9]]))\n"
          ]
        }
      ]
    },
    {
      "cell_type": "markdown",
      "source": [
        "Введите класс для нового объекта с координатами (58, 63)  при *k*=3 и евклидовой метрике."
      ],
      "metadata": {
        "id": "C9c__BNtwXnz"
      }
    },
    {
      "cell_type": "code",
      "source": [
        "euclid = knn(n_neighbors = 3, p = 2)\n",
        "euclid.fit(X, Y)\n",
        "euclid.predict([[58, 63]])"
      ],
      "metadata": {
        "colab": {
          "base_uri": "https://localhost:8080/"
        },
        "id": "wleF-YsKJ9Zp",
        "outputId": "9c5947f7-a90f-48a9-a86c-b82febfabe46"
      },
      "execution_count": 4,
      "outputs": [
        {
          "output_type": "execute_result",
          "data": {
            "text/plain": [
              "array([1])"
            ]
          },
          "metadata": {},
          "execution_count": 4
        }
      ]
    },
    {
      "cell_type": "markdown",
      "source": [
        "Введите класс для нового объекта с координатами (58, 63)  при *k*=3 и метрике городских кварталов."
      ],
      "metadata": {
        "id": "JyEygm3lwkLk"
      }
    },
    {
      "cell_type": "code",
      "source": [
        "man = knn(n_neighbors = 3, p = 1)\n",
        "man.fit(X, Y)\n",
        "man.predict([[58, 63]])"
      ],
      "metadata": {
        "colab": {
          "base_uri": "https://localhost:8080/"
        },
        "id": "GMsuk-k4LKDy",
        "outputId": "d2c3bc95-93c0-482a-e41b-d4a6d0abb3c3"
      },
      "execution_count": 5,
      "outputs": [
        {
          "output_type": "execute_result",
          "data": {
            "text/plain": [
              "array([1])"
            ]
          },
          "metadata": {},
          "execution_count": 5
        }
      ]
    },
    {
      "cell_type": "markdown",
      "source": [
        "Введите расстояние от нового объекта с координатами (58, 63) до ближайшего соседа, используя метрику городских кварталов (Манхеттенское расстояние). Введите идентификатры трех ближайших точек к (58, 63) для метрики городских кварталов."
      ],
      "metadata": {
        "id": "7d9kAZFjw4oh"
      }
    },
    {
      "cell_type": "code",
      "source": [
        "man.kneighbors([[58, 63]])"
      ],
      "metadata": {
        "colab": {
          "base_uri": "https://localhost:8080/"
        },
        "id": "dNedDQrPmzGS",
        "outputId": "39398550-232d-4fb4-bd89-4a6a29d25e16"
      },
      "execution_count": 7,
      "outputs": [
        {
          "output_type": "execute_result",
          "data": {
            "text/plain": [
              "(array([[13., 17., 20.]]), array([[2, 3, 9]]))"
            ]
          },
          "metadata": {},
          "execution_count": 7
        }
      ]
    }
  ]
}