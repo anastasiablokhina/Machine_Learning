{
  "nbformat": 4,
  "nbformat_minor": 0,
  "metadata": {
    "colab": {
      "name": "ML_3",
      "provenance": []
    },
    "kernelspec": {
      "name": "python3",
      "display_name": "Python 3"
    },
    "language_info": {
      "name": "python"
    }
  },
  "cells": [
    {
      "cell_type": "markdown",
      "source": [
        "# Задание 1"
      ],
      "metadata": {
        "id": "kU0eJdnHuRuW"
      }
    },
    {
      "cell_type": "code",
      "execution_count": 1,
      "metadata": {
        "id": "pmJgUWkDBpSL"
      },
      "outputs": [],
      "source": [
        "import pandas as pd\n",
        "import numpy as np\n",
        "import seaborn as sns\n",
        "import pandas as pd\n",
        "import matplotlib\n",
        "from matplotlib import pyplot as plt \n",
        "from sklearn.linear_model import LinearRegression\n",
        "from sklearn.metrics import r2_score\n",
        "import warnings\n",
        "warnings.filterwarnings('ignore')"
      ]
    },
    {
      "cell_type": "code",
      "source": [
        "df = pd.read_csv('/content/task.csv')"
      ],
      "metadata": {
        "id": "wtTx_xqzq0Ag"
      },
      "execution_count": 2,
      "outputs": []
    },
    {
      "cell_type": "markdown",
      "source": [
        "Определите выборочное среднее $\\overline{X}$ и $\\overline{Y}$"
      ],
      "metadata": {
        "id": "Qcu30SCpsS8q"
      }
    },
    {
      "cell_type": "code",
      "source": [
        "df[['X']].mean()"
      ],
      "metadata": {
        "colab": {
          "base_uri": "https://localhost:8080/"
        },
        "id": "xP-ZSk6rGjdW",
        "outputId": "1f6d57a1-2e71-4b74-84fa-9241a4657ac8"
      },
      "execution_count": 3,
      "outputs": [
        {
          "output_type": "execute_result",
          "data": {
            "text/plain": [
              "X    13.7\n",
              "dtype: float64"
            ]
          },
          "metadata": {},
          "execution_count": 3
        }
      ]
    },
    {
      "cell_type": "code",
      "source": [
        "df[['Y']].mean()"
      ],
      "metadata": {
        "colab": {
          "base_uri": "https://localhost:8080/"
        },
        "id": "SKsxqhKqGuA8",
        "outputId": "4ee8db32-2327-4664-d314-f0ec3058e2ae"
      },
      "execution_count": 4,
      "outputs": [
        {
          "output_type": "execute_result",
          "data": {
            "text/plain": [
              "Y    38.1\n",
              "dtype: float64"
            ]
          },
          "metadata": {},
          "execution_count": 4
        }
      ]
    },
    {
      "cell_type": "markdown",
      "source": [
        "Найдите коэффициенты $\\theta_1$ и $\\theta_0$"
      ],
      "metadata": {
        "id": "pBU0X94TsbxV"
      }
    },
    {
      "cell_type": "code",
      "source": [
        "reg = LinearRegression().fit(df[['X']], df[['Y']])"
      ],
      "metadata": {
        "id": "lrtGLaXDCbH6"
      },
      "execution_count": 7,
      "outputs": []
    },
    {
      "cell_type": "code",
      "source": [
        "reg.intercept_"
      ],
      "metadata": {
        "colab": {
          "base_uri": "https://localhost:8080/"
        },
        "id": "JfoGNRXZEm1a",
        "outputId": "412ad729-d776-4c1b-ca43-595c5db7d202"
      },
      "execution_count": 8,
      "outputs": [
        {
          "output_type": "execute_result",
          "data": {
            "text/plain": [
              "array([1.95700052])"
            ]
          },
          "metadata": {},
          "execution_count": 8
        }
      ]
    },
    {
      "cell_type": "code",
      "source": [
        "reg.coef_"
      ],
      "metadata": {
        "colab": {
          "base_uri": "https://localhost:8080/"
        },
        "id": "aXKUQESoGB-G",
        "outputId": "26c7280a-da4b-4971-dad7-2d13211a5e60"
      },
      "execution_count": 9,
      "outputs": [
        {
          "output_type": "execute_result",
          "data": {
            "text/plain": [
              "array([[2.63817514]])"
            ]
          },
          "metadata": {},
          "execution_count": 9
        }
      ]
    },
    {
      "cell_type": "markdown",
      "source": [
        "Оцените точность модели, вычислив $R^2$ статистику:"
      ],
      "metadata": {
        "id": "IGpoWey_GOXM"
      }
    },
    {
      "cell_type": "code",
      "source": [
        "y = reg.predict(df[['X']])\n",
        "y"
      ],
      "metadata": {
        "colab": {
          "base_uri": "https://localhost:8080/"
        },
        "id": "d5nD7EawGONd",
        "outputId": "957f81d2-a166-4074-d188-36230376b876"
      },
      "execution_count": 10,
      "outputs": [
        {
          "output_type": "execute_result",
          "data": {
            "text/plain": [
              "array([[38.89145254],\n",
              "       [57.35867855],\n",
              "       [67.91137913],\n",
              "       [23.06240168],\n",
              "       [54.72050341],\n",
              "       [49.44415312],\n",
              "       [46.80597798],\n",
              "       [ 9.87152596],\n",
              "       [ 4.59517567],\n",
              "       [28.33875197]])"
            ]
          },
          "metadata": {},
          "execution_count": 10
        }
      ]
    },
    {
      "cell_type": "code",
      "source": [
        "r2 = r2_score(df.Y, y)\n",
        "r2"
      ],
      "metadata": {
        "colab": {
          "base_uri": "https://localhost:8080/"
        },
        "id": "M69QKbtVGcgG",
        "outputId": "5c914343-60c5-4d39-f58e-5d345b02f87c"
      },
      "execution_count": 11,
      "outputs": [
        {
          "output_type": "execute_result",
          "data": {
            "text/plain": [
              "0.9676535870007654"
            ]
          },
          "metadata": {},
          "execution_count": 11
        }
      ]
    },
    {
      "cell_type": "markdown",
      "source": [
        "# Задание 2"
      ],
      "metadata": {
        "id": "yFOjcYeQjUdu"
      }
    },
    {
      "cell_type": "markdown",
      "source": [
        "Обучите модель линейной многомерной регрессии. В качестве тренировочного набора данных используйте данные из файла, за иключением следующих конфет: Haribo Gold Bears, Snickers."
      ],
      "metadata": {
        "id": "Vv6B_Yy-ulzh"
      }
    },
    {
      "cell_type": "code",
      "source": [
        "df2 = pd.read_csv('https://courses.openedu.ru/assets/courseware/v1/a11f0b9cb0074fdacc112eee71eb0b67/asset-v1:ITMOUniversity+MLDATAN+spring_2022_ITMO_bac+type@asset+block/candy-data.csv', index_col='competitorname')\n",
        "df2 = df2.drop(['Y'], axis = 1)"
      ],
      "metadata": {
        "id": "s1i-zrbfHhyd"
      },
      "execution_count": 12,
      "outputs": []
    },
    {
      "cell_type": "code",
      "source": [
        "y2 = df2[['winpercent']]\n",
        "x2 = df2.drop(['winpercent'], axis = 1)"
      ],
      "metadata": {
        "id": "wUDTHWvqjpCW"
      },
      "execution_count": 13,
      "outputs": []
    },
    {
      "cell_type": "code",
      "source": [
        "x2_predict = x2.loc[['Haribo Gold Bears', 'Snickers']]\n",
        "x2_train = x2.drop(['Haribo Gold Bears', 'Snickers'])\n",
        "y2_predict = y2.loc[['Haribo Gold Bears', 'Snickers']]\n",
        "y2_train = y2.drop(['Haribo Gold Bears', 'Snickers'])"
      ],
      "metadata": {
        "id": "-hEgL-89Ht6S"
      },
      "execution_count": 14,
      "outputs": []
    },
    {
      "cell_type": "markdown",
      "source": [
        "Введите предсказанное значение *winpercent* для конфет Haribo Gold Bears и Snickers"
      ],
      "metadata": {
        "id": "TqhsTTauuxvP"
      }
    },
    {
      "cell_type": "code",
      "source": [
        "reg = LinearRegression().fit(x2_train, y2_train)\n",
        "y = reg.predict(x2_predict)\n",
        "y"
      ],
      "metadata": {
        "colab": {
          "base_uri": "https://localhost:8080/"
        },
        "id": "CUYDUEXAnTBa",
        "outputId": "32a1d567-6e80-4113-c521-a3d8b50b184a"
      },
      "execution_count": 16,
      "outputs": [
        {
          "output_type": "execute_result",
          "data": {
            "text/plain": [
              "array([[43.76957716],\n",
              "       [63.76550665]])"
            ]
          },
          "metadata": {},
          "execution_count": 16
        }
      ]
    },
    {
      "cell_type": "markdown",
      "source": [
        "Введите предсказанное значение *winpercent* для конфеты с определенными параметрами"
      ],
      "metadata": {
        "id": "Cqc9Csaqu-vd"
      }
    },
    {
      "cell_type": "code",
      "source": [
        "z2_predict = pd.DataFrame([1, 0, 1, 1, 0, 1, 1, 1, 1, 0.355, 0.426]).T\n",
        "z = reg.predict(z2_predict)\n",
        "z"
      ],
      "metadata": {
        "colab": {
          "base_uri": "https://localhost:8080/"
        },
        "id": "3q8HX16Gn6xT",
        "outputId": "96ea9ac4-fa4b-4696-a322-ae05d572eeb9"
      },
      "execution_count": 17,
      "outputs": [
        {
          "output_type": "execute_result",
          "data": {
            "text/plain": [
              "array([[60.44836288]])"
            ]
          },
          "metadata": {},
          "execution_count": 17
        }
      ]
    }
  ]
}