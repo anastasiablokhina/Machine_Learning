{
  "nbformat": 4,
  "nbformat_minor": 0,
  "metadata": {
    "colab": {
      "name": "ML_2",
      "provenance": [],
      "authorship_tag": "ABX9TyPrIRQ5MvYgJw4oIQJNuG/B",
      "include_colab_link": true
    },
    "kernelspec": {
      "name": "python3",
      "display_name": "Python 3"
    },
    "language_info": {
      "name": "python"
    }
  },
  "cells": [
    {
      "cell_type": "markdown",
      "metadata": {
        "id": "view-in-github",
        "colab_type": "text"
      },
      "source": [
        "<a href=\"https://colab.research.google.com/github/anastasiablokhina/Machine_Learning/blob/main/ML_2.ipynb\" target=\"_parent\"><img src=\"https://colab.research.google.com/assets/colab-badge.svg\" alt=\"Open In Colab\"/></a>"
      ]
    },
    {
      "cell_type": "markdown",
      "source": [
        "# Задание 1"
      ],
      "metadata": {
        "id": "_v4TunAeom2M"
      }
    },
    {
      "cell_type": "markdown",
      "source": [
        "В предложенном файле находится набор синтетических данных. Данные описывают 60 объектов, каждый из которых обладает 10 признаками. Ваша задача, используя метод главных компонент, перейти к новым координатам и найти следующие параметры."
      ],
      "metadata": {
        "id": "6tNG_xxzpHpb"
      }
    },
    {
      "cell_type": "code",
      "execution_count": 7,
      "metadata": {
        "colab": {
          "base_uri": "https://localhost:8080/",
          "height": 206
        },
        "id": "bh2J9OI7RF-B",
        "outputId": "17d46207-91f8-4b80-f188-f6fb26f23a78"
      },
      "outputs": [
        {
          "output_type": "execute_result",
          "data": {
            "text/plain": [
              "           0          1          2          3          4          5  \\\n",
              "0  -7.551127 -16.501883  12.214029  -4.532918   7.195725 -10.695086   \n",
              "1  15.332258  -2.873288 -18.918645 -19.692909   9.338751  14.829184   \n",
              "2 -11.447178 -12.150761 -18.801647 -24.051650  15.213106  18.650944   \n",
              "3  16.922389  -4.922460 -21.959687 -19.735653   9.871696  15.691369   \n",
              "4  13.683867  -2.109327 -20.939583 -18.912884   7.441524  13.049203   \n",
              "\n",
              "           6          7          8          9  \n",
              "0 -21.060089 -23.861166  -2.754803  11.277232  \n",
              "1  -7.771072  -5.460143  14.528354 -13.885432  \n",
              "2   5.061457  -9.081610 -24.478108 -16.165841  \n",
              "3 -11.258013  -3.755190   9.735562 -10.922091  \n",
              "4  -8.486979  -7.611905  10.369139  -9.060181  "
            ],
            "text/html": [
              "\n",
              "  <div id=\"df-af37857a-0e15-42c5-9f65-8259c42af5b5\">\n",
              "    <div class=\"colab-df-container\">\n",
              "      <div>\n",
              "<style scoped>\n",
              "    .dataframe tbody tr th:only-of-type {\n",
              "        vertical-align: middle;\n",
              "    }\n",
              "\n",
              "    .dataframe tbody tr th {\n",
              "        vertical-align: top;\n",
              "    }\n",
              "\n",
              "    .dataframe thead th {\n",
              "        text-align: right;\n",
              "    }\n",
              "</style>\n",
              "<table border=\"1\" class=\"dataframe\">\n",
              "  <thead>\n",
              "    <tr style=\"text-align: right;\">\n",
              "      <th></th>\n",
              "      <th>0</th>\n",
              "      <th>1</th>\n",
              "      <th>2</th>\n",
              "      <th>3</th>\n",
              "      <th>4</th>\n",
              "      <th>5</th>\n",
              "      <th>6</th>\n",
              "      <th>7</th>\n",
              "      <th>8</th>\n",
              "      <th>9</th>\n",
              "    </tr>\n",
              "  </thead>\n",
              "  <tbody>\n",
              "    <tr>\n",
              "      <th>0</th>\n",
              "      <td>-7.551127</td>\n",
              "      <td>-16.501883</td>\n",
              "      <td>12.214029</td>\n",
              "      <td>-4.532918</td>\n",
              "      <td>7.195725</td>\n",
              "      <td>-10.695086</td>\n",
              "      <td>-21.060089</td>\n",
              "      <td>-23.861166</td>\n",
              "      <td>-2.754803</td>\n",
              "      <td>11.277232</td>\n",
              "    </tr>\n",
              "    <tr>\n",
              "      <th>1</th>\n",
              "      <td>15.332258</td>\n",
              "      <td>-2.873288</td>\n",
              "      <td>-18.918645</td>\n",
              "      <td>-19.692909</td>\n",
              "      <td>9.338751</td>\n",
              "      <td>14.829184</td>\n",
              "      <td>-7.771072</td>\n",
              "      <td>-5.460143</td>\n",
              "      <td>14.528354</td>\n",
              "      <td>-13.885432</td>\n",
              "    </tr>\n",
              "    <tr>\n",
              "      <th>2</th>\n",
              "      <td>-11.447178</td>\n",
              "      <td>-12.150761</td>\n",
              "      <td>-18.801647</td>\n",
              "      <td>-24.051650</td>\n",
              "      <td>15.213106</td>\n",
              "      <td>18.650944</td>\n",
              "      <td>5.061457</td>\n",
              "      <td>-9.081610</td>\n",
              "      <td>-24.478108</td>\n",
              "      <td>-16.165841</td>\n",
              "    </tr>\n",
              "    <tr>\n",
              "      <th>3</th>\n",
              "      <td>16.922389</td>\n",
              "      <td>-4.922460</td>\n",
              "      <td>-21.959687</td>\n",
              "      <td>-19.735653</td>\n",
              "      <td>9.871696</td>\n",
              "      <td>15.691369</td>\n",
              "      <td>-11.258013</td>\n",
              "      <td>-3.755190</td>\n",
              "      <td>9.735562</td>\n",
              "      <td>-10.922091</td>\n",
              "    </tr>\n",
              "    <tr>\n",
              "      <th>4</th>\n",
              "      <td>13.683867</td>\n",
              "      <td>-2.109327</td>\n",
              "      <td>-20.939583</td>\n",
              "      <td>-18.912884</td>\n",
              "      <td>7.441524</td>\n",
              "      <td>13.049203</td>\n",
              "      <td>-8.486979</td>\n",
              "      <td>-7.611905</td>\n",
              "      <td>10.369139</td>\n",
              "      <td>-9.060181</td>\n",
              "    </tr>\n",
              "  </tbody>\n",
              "</table>\n",
              "</div>\n",
              "      <button class=\"colab-df-convert\" onclick=\"convertToInteractive('df-af37857a-0e15-42c5-9f65-8259c42af5b5')\"\n",
              "              title=\"Convert this dataframe to an interactive table.\"\n",
              "              style=\"display:none;\">\n",
              "        \n",
              "  <svg xmlns=\"http://www.w3.org/2000/svg\" height=\"24px\"viewBox=\"0 0 24 24\"\n",
              "       width=\"24px\">\n",
              "    <path d=\"M0 0h24v24H0V0z\" fill=\"none\"/>\n",
              "    <path d=\"M18.56 5.44l.94 2.06.94-2.06 2.06-.94-2.06-.94-.94-2.06-.94 2.06-2.06.94zm-11 1L8.5 8.5l.94-2.06 2.06-.94-2.06-.94L8.5 2.5l-.94 2.06-2.06.94zm10 10l.94 2.06.94-2.06 2.06-.94-2.06-.94-.94-2.06-.94 2.06-2.06.94z\"/><path d=\"M17.41 7.96l-1.37-1.37c-.4-.4-.92-.59-1.43-.59-.52 0-1.04.2-1.43.59L10.3 9.45l-7.72 7.72c-.78.78-.78 2.05 0 2.83L4 21.41c.39.39.9.59 1.41.59.51 0 1.02-.2 1.41-.59l7.78-7.78 2.81-2.81c.8-.78.8-2.07 0-2.86zM5.41 20L4 18.59l7.72-7.72 1.47 1.35L5.41 20z\"/>\n",
              "  </svg>\n",
              "      </button>\n",
              "      \n",
              "  <style>\n",
              "    .colab-df-container {\n",
              "      display:flex;\n",
              "      flex-wrap:wrap;\n",
              "      gap: 12px;\n",
              "    }\n",
              "\n",
              "    .colab-df-convert {\n",
              "      background-color: #E8F0FE;\n",
              "      border: none;\n",
              "      border-radius: 50%;\n",
              "      cursor: pointer;\n",
              "      display: none;\n",
              "      fill: #1967D2;\n",
              "      height: 32px;\n",
              "      padding: 0 0 0 0;\n",
              "      width: 32px;\n",
              "    }\n",
              "\n",
              "    .colab-df-convert:hover {\n",
              "      background-color: #E2EBFA;\n",
              "      box-shadow: 0px 1px 2px rgba(60, 64, 67, 0.3), 0px 1px 3px 1px rgba(60, 64, 67, 0.15);\n",
              "      fill: #174EA6;\n",
              "    }\n",
              "\n",
              "    [theme=dark] .colab-df-convert {\n",
              "      background-color: #3B4455;\n",
              "      fill: #D2E3FC;\n",
              "    }\n",
              "\n",
              "    [theme=dark] .colab-df-convert:hover {\n",
              "      background-color: #434B5C;\n",
              "      box-shadow: 0px 1px 3px 1px rgba(0, 0, 0, 0.15);\n",
              "      filter: drop-shadow(0px 1px 2px rgba(0, 0, 0, 0.3));\n",
              "      fill: #FFFFFF;\n",
              "    }\n",
              "  </style>\n",
              "\n",
              "      <script>\n",
              "        const buttonEl =\n",
              "          document.querySelector('#df-af37857a-0e15-42c5-9f65-8259c42af5b5 button.colab-df-convert');\n",
              "        buttonEl.style.display =\n",
              "          google.colab.kernel.accessAllowed ? 'block' : 'none';\n",
              "\n",
              "        async function convertToInteractive(key) {\n",
              "          const element = document.querySelector('#df-af37857a-0e15-42c5-9f65-8259c42af5b5');\n",
              "          const dataTable =\n",
              "            await google.colab.kernel.invokeFunction('convertToInteractive',\n",
              "                                                     [key], {});\n",
              "          if (!dataTable) return;\n",
              "\n",
              "          const docLinkHtml = 'Like what you see? Visit the ' +\n",
              "            '<a target=\"_blank\" href=https://colab.research.google.com/notebooks/data_table.ipynb>data table notebook</a>'\n",
              "            + ' to learn more about interactive tables.';\n",
              "          element.innerHTML = '';\n",
              "          dataTable['output_type'] = 'display_data';\n",
              "          await google.colab.output.renderOutput(dataTable, element);\n",
              "          const docLink = document.createElement('div');\n",
              "          docLink.innerHTML = docLinkHtml;\n",
              "          element.appendChild(docLink);\n",
              "        }\n",
              "      </script>\n",
              "    </div>\n",
              "  </div>\n",
              "  "
            ]
          },
          "metadata": {},
          "execution_count": 7
        }
      ],
      "source": [
        "import numpy as np\n",
        "import pandas as pd\n",
        "from sklearn.decomposition import PCA\n",
        "import matplotlib\n",
        "import matplotlib.pyplot as plt\n",
        "\n",
        "data = pd.read_csv('https://courses.openedu.ru/assets/courseware/v1/731db936907662ea44eaff6955678281/asset-v1:ITMOUniversity+MLDATAN+spring_2022_ITMO_bac+type@asset+block/72_36.csv', header=None)\n",
        "data.head()\n"
      ]
    },
    {
      "cell_type": "markdown",
      "source": [
        "Введите координату первого объекта относительно первой главной компоненты, относительно второй главной компоненты."
      ],
      "metadata": {
        "id": "VDTc-sFipSoV"
      }
    },
    {
      "cell_type": "code",
      "source": [
        "pca = PCA(n_components=2, svd_solver='full')\n",
        "data_transformed = pca.fit(data).transform(data)\n",
        "data_transformed[0]"
      ],
      "metadata": {
        "colab": {
          "base_uri": "https://localhost:8080/"
        },
        "id": "gUI7VSmOn3dR",
        "outputId": "0637b4f9-75d1-4654-a1c7-e84a6352ff41"
      },
      "execution_count": 8,
      "outputs": [
        {
          "output_type": "execute_result",
          "data": {
            "text/plain": [
              "array([ 21.5685525 , -20.11266413])"
            ]
          },
          "metadata": {},
          "execution_count": 8
        }
      ]
    },
    {
      "cell_type": "markdown",
      "source": [
        "Введите долю объясненной дисперсии при использовании первых двух главных компонент."
      ],
      "metadata": {
        "id": "TZig9XSupd-7"
      }
    },
    {
      "cell_type": "code",
      "source": [
        "explained_variance = np.round(np.cumsum(pca.explained_variance_ratio_),3)\n",
        "explained_variance"
      ],
      "metadata": {
        "colab": {
          "base_uri": "https://localhost:8080/"
        },
        "id": "7odB1zlBTScI",
        "outputId": "339d788c-18c8-4a0f-d957-e7e81278e2b2"
      },
      "execution_count": 9,
      "outputs": [
        {
          "output_type": "execute_result",
          "data": {
            "text/plain": [
              "array([0.438, 0.659])"
            ]
          },
          "metadata": {},
          "execution_count": 9
        }
      ]
    },
    {
      "cell_type": "markdown",
      "source": [
        "Какое минимальное количество главных компонент необходимо использовать, чтобы доля объясненной дисперсии превышала 0.85."
      ],
      "metadata": {
        "id": "8quOgXRCpn2g"
      }
    },
    {
      "cell_type": "code",
      "source": [
        "pca = PCA(n_components=10, svd_solver='auto')\n",
        "data_full = pca.fit(data).transform(data)\n",
        "explained_variance = np.round(np.cumsum(pca.explained_variance_ratio_),3)\n",
        "explained_variance"
      ],
      "metadata": {
        "colab": {
          "base_uri": "https://localhost:8080/"
        },
        "id": "hRtgp-PxTiOQ",
        "outputId": "0e082de1-e2b7-41d6-9801-25ae5b53c23f"
      },
      "execution_count": 10,
      "outputs": [
        {
          "output_type": "execute_result",
          "data": {
            "text/plain": [
              "array([0.438, 0.659, 0.86 , 0.979, 0.993, 0.995, 0.997, 0.998, 0.999,\n",
              "       1.   ])"
            ]
          },
          "metadata": {},
          "execution_count": 10
        }
      ]
    },
    {
      "cell_type": "markdown",
      "source": [
        "Какое количество групп объектов можно выделить, если использовать только первые две главных компоненты?"
      ],
      "metadata": {
        "id": "9siFdpCtpvyf"
      }
    },
    {
      "cell_type": "code",
      "source": [
        "plt.plot(data_transformed[:60, 0], data_transformed[:60, 1], 'o', markerfacecolor='red', markeredgecolor='k', markersize=8);"
      ],
      "metadata": {
        "colab": {
          "base_uri": "https://localhost:8080/",
          "height": 265
        },
        "id": "Wrn3OdzxTxa-",
        "outputId": "889e9821-cb58-4296-9fe7-0d40acbd8522"
      },
      "execution_count": 11,
      "outputs": [
        {
          "output_type": "display_data",
          "data": {
            "text/plain": [
              "<Figure size 432x288 with 1 Axes>"
            ],
            "image/png": "[encoded data removed]"
          },
          "metadata": {
            "needs_background": "light"
          }
        }
      ]
    },
    {
      "cell_type": "markdown",
      "source": [
        "# Задание 2"
      ],
      "metadata": {
        "id": "44RdVauTUXZl"
      }
    },
    {
      "cell_type": "markdown",
      "source": [
        "Получите изображение логотипа по первым десяти главным компонентам и восстановите исходное изображение."
      ],
      "metadata": {
        "id": "bUfe1FsCp6kO"
      }
    },
    {
      "cell_type": "code",
      "source": [
        "import numpy as np\n",
        "import matplotlib\n",
        "import matplotlib.pyplot as plt\n",
        "%matplotlib inline\n",
        "scores = np.genfromtxt('https://courses.openedu.ru/assets/courseware/v1/fff656446d36c916cb7a57da7cce7b77/asset-v1:ITMOUniversity+MLDATAN+spring_2022_ITMO_bac+type@asset+block/X_reduced_441.csv', delimiter=';')\n",
        "loadings = np.genfromtxt('https://courses.openedu.ru/assets/courseware/v1/f2560b95e59db0b0c09eba1a8d2c1688/asset-v1:ITMOUniversity+MLDATAN+spring_2022_ITMO_bac+type@asset+block/X_loadings_441.csv', delimiter=';')\n",
        "values = np.dot(scores,loadings.T)\n",
        "plt.imshow(values, cmap='Greys_r');"
      ],
      "metadata": {
        "colab": {
          "base_uri": "https://localhost:8080/",
          "height": 268
        },
        "id": "iWH73zAPUY6C",
        "outputId": "bd2261d2-a307-44ce-b2dc-de1b5face510"
      },
      "execution_count": 12,
      "outputs": [
        {
          "output_type": "display_data",
          "data": {
            "text/plain": [
              "<Figure size 432x288 with 1 Axes>"
            ],
            "image/png": "[encoded data removed]"
          },
          "metadata": {
            "needs_background": "light"
          }
        }
      ]
    }
  ]
}